{
 "cells": [
  {
   "attachments": {},
   "cell_type": "markdown",
   "metadata": {},
   "source": [
    "# <span style=\"color:darkblue\"> Lecture 1c: Mathematical Operations and Random Numbers </span>"
   ]
  },
  {
   "attachments": {},
   "cell_type": "markdown",
   "metadata": {},
   "source": [
    "<font size=\"5\"> \n",
    "\n",
    "In the previous class we:\n",
    "- Introduced lists and variable types\n",
    "- Talked about how to extract elements from a list"
   ]
  },
  {
   "attachments": {},
   "cell_type": "markdown",
   "metadata": {},
   "source": [
    "<font size=\"5\"> \n",
    "\n",
    "In this class we will:\n",
    "\n",
    "- Introduce a library for general mathematical operations\n",
    "- Generate random numbers\n",
    "- (Optional) Matrix operations"
   ]
  },
  {
   "attachments": {},
   "cell_type": "markdown",
   "metadata": {},
   "source": [
    "## <span style=\"color:darkblue\"> I. Import Libraries </span>"
   ]
  },
  {
   "cell_type": "code",
   "execution_count": 22,
   "metadata": {},
   "outputs": [],
   "source": [
    "# the \"numPy\" library is used for mathematical operations\n",
    "# the \"matplotlib\" library is for generating graphs\n",
    "\n",
    "import numpy as np\n",
    "import matplotlib.pyplot as plt\n"
   ]
  },
  {
   "attachments": {},
   "cell_type": "markdown",
   "metadata": {},
   "source": [
    "##  <span style=\"color:darkblue\"> II. Numbers and Functions </span>"
   ]
  },
  {
   "attachments": {},
   "cell_type": "markdown",
   "metadata": {},
   "source": [
    "<font size = \"5\" >\n",
    "Examples of numPy numbers"
   ]
  },
  {
   "cell_type": "code",
   "execution_count": 23,
   "metadata": {},
   "outputs": [
    {
     "data": {
      "text/plain": [
       "3.141592653589793"
      ]
     },
     "execution_count": 23,
     "metadata": {},
     "output_type": "execute_result"
    }
   ],
   "source": [
    "# Computes \"pi\" (3.14...)\n",
    "\n",
    "np.pi"
   ]
  },
  {
   "attachments": {},
   "cell_type": "markdown",
   "metadata": {},
   "source": [
    "<font size = \"5\" >\n",
    "\n",
    "Examples of numPy functions\n",
    "\n",
    "$ ln(x), e^x, sin(x), cos(x), \\sqrt{x}$"
   ]
  },
  {
   "cell_type": "code",
   "execution_count": 24,
   "metadata": {},
   "outputs": [
    {
     "name": "stdout",
     "output_type": "stream",
     "text": [
      "0.0\n",
      "2.718281828459045\n",
      "0.8414709848078965\n",
      "0.5403023058681398\n",
      "1.0\n"
     ]
    }
   ],
   "source": [
    "# log(x) computes the logarithm with base \"e\" (Euler constant)\n",
    "# exp(x) compute the Euler constant raised to the power of \"x\"\n",
    "# sing(x) computes the sine of x\n",
    "# cos(x) computes the cosine of x\n",
    "# In this example, we're substituting x = 1\n",
    "\n",
    "print(np.log(1))\n",
    "print(np.exp(1))\n",
    "print(np.sin(1))\n",
    "print(np.cos(1))\n",
    "print(np.sqrt(1))"
   ]
  },
  {
   "attachments": {},
   "cell_type": "markdown",
   "metadata": {},
   "source": [
    "<font size = \"5\">\n",
    "\n",
    "Try it yourself!\n",
    "\n",
    "- Create a new variable, $x = 5$\n",
    "- Compute $\\pi x^2$\n",
    "- Compute $ \\frac{1}{\\sqrt{2\\pi}}e^{-x^2} $"
   ]
  },
  {
   "cell_type": "code",
   "execution_count": 25,
   "metadata": {},
   "outputs": [
    {
     "name": "stdout",
     "output_type": "stream",
     "text": [
      "78.53981633974483\n",
      "5.540487995575833e-12\n"
     ]
    }
   ],
   "source": [
    "# Include your answer here:\n",
    "\n",
    "x = 5\n",
    "print(np.pi*(x**2))\n",
    "print((1/np.sqrt(2*np.pi))*np.exp(-x**2))"
   ]
  },
  {
   "cell_type": "code",
   "execution_count": 26,
   "metadata": {},
   "outputs": [],
   "source": [
    "q = 1/np.sqrt(2*np.pi)\n",
    "ex = np.exp(-x**2)"
   ]
  },
  {
   "cell_type": "code",
   "execution_count": 27,
   "metadata": {},
   "outputs": [
    {
     "data": {
      "text/plain": [
       "5.540487995575833e-12"
      ]
     },
     "execution_count": 27,
     "metadata": {},
     "output_type": "execute_result"
    }
   ],
   "source": [
    "q*ex"
   ]
  },
  {
   "attachments": {},
   "cell_type": "markdown",
   "metadata": {},
   "source": [
    "##  <span style=\"color:darkblue\"> III. Vector Arrays </span>"
   ]
  },
  {
   "attachments": {},
   "cell_type": "markdown",
   "metadata": {},
   "source": [
    "<font size = \"5\">\n",
    "Create an array from a list\n",
    "\n",
    "$ \\text{ }$\n",
    "$ a = \\begin{pmatrix} 1 \\\\ 2 \\\\ 3 \\end{pmatrix}\n",
    "\\qquad b = \\begin{pmatrix} 0 \\\\ 1 \\\\ 0\\end{pmatrix}\n",
    "\\qquad c = \\begin{pmatrix} 10 \\\\ 100 \\\\ 1000 \\\\ 2000 \\\\ 5000 \\end{pmatrix} \n",
    "\\qquad d = \\begin{pmatrix} 4 \\\\ 2 \\end{pmatrix} $"
   ]
  },
  {
   "cell_type": "code",
   "execution_count": 28,
   "metadata": {},
   "outputs": [],
   "source": [
    "# You create an array by converting a list [1,2,3] to a numeric object\n",
    "# \"array\" is a subfunction of the library numPy.\n",
    "\n",
    "vec_a  = np.array([1,2,3])\n",
    "vec_b  = np.array([0,1,0])\n",
    "vec_c  = np.array([10,100,1000,2000,5000])\n"
   ]
  },
  {
   "attachments": {},
   "cell_type": "markdown",
   "metadata": {},
   "source": [
    "<font size = \"5\">\n",
    "\n",
    "Accessing an element of an array"
   ]
  },
  {
   "cell_type": "code",
   "execution_count": 29,
   "metadata": {},
   "outputs": [
    {
     "name": "stdout",
     "output_type": "stream",
     "text": [
      "1\n",
      "3\n"
     ]
    }
   ],
   "source": [
    "# Arrays, like lists, start their numbering at zero.\n",
    "# You also access them with square brackets\n",
    "\n",
    "print(vec_a[0])\n",
    "print(vec_a[2])\n"
   ]
  },
  {
   "attachments": {},
   "cell_type": "markdown",
   "metadata": {},
   "source": [
    "<font size = \"5\">\n",
    "Operations with a single array and a scalar"
   ]
  },
  {
   "attachments": {},
   "cell_type": "markdown",
   "metadata": {},
   "source": [
    "<font size = \"5\">\n",
    "\n",
    "$ a + 2 = \\begin{pmatrix} a_1 + 2 \\\\ a_2 + 2 \\\\ a_3 + 2 \\end{pmatrix}$"
   ]
  },
  {
   "cell_type": "code",
   "execution_count": 30,
   "metadata": {},
   "outputs": [
    {
     "name": "stdout",
     "output_type": "stream",
     "text": [
      "[2 4 6]\n",
      "[0.5 1.  1.5]\n",
      "[3 4 5]\n",
      "[1 4 9]\n"
     ]
    }
   ],
   "source": [
    "# A scalar refers to either an int or float\n",
    "# We can do many common operations with \n",
    "\n",
    "print(vec_a * 2)\n",
    "print(vec_a / 2)\n",
    "print(vec_a + 2)\n",
    "print(vec_a ** 2)"
   ]
  },
  {
   "attachments": {},
   "cell_type": "markdown",
   "metadata": {},
   "source": [
    "<font size = \"5\">\n",
    "Element-by-element addition between two arrays of the same size\n",
    "\n",
    "$\\text{ }$\n",
    "\n",
    "$ a + b = \\begin{pmatrix} a_1 \\\\ a_2 \\\\ a_3 \\end{pmatrix} +\n",
    "          \\begin{pmatrix} b_1 \\\\ b_2 \\\\ b_3 \\end{pmatrix} =\n",
    "          \\begin{pmatrix} a_1 + b_1 \\\\ a_2 + b_2 \\\\ a_3 + b_3 \\end{pmatrix}$"
   ]
  },
  {
   "cell_type": "code",
   "execution_count": 31,
   "metadata": {},
   "outputs": [
    {
     "name": "stdout",
     "output_type": "stream",
     "text": [
      "[1 2 3]\n",
      "[0 1 0]\n"
     ]
    }
   ],
   "source": [
    "print(vec_a)\n",
    "print(vec_b)"
   ]
  },
  {
   "cell_type": "code",
   "execution_count": 32,
   "metadata": {},
   "outputs": [
    {
     "name": "stdout",
     "output_type": "stream",
     "text": [
      "[1 3 3]\n"
     ]
    }
   ],
   "source": [
    "# When you add two arrays of the same size,\n",
    "# Python adds the individual elements in each position\n",
    "\n",
    "print(vec_a + vec_b)\n"
   ]
  },
  {
   "attachments": {},
   "cell_type": "markdown",
   "metadata": {},
   "source": [
    "<font size =\"5\">\n",
    "\n",
    "The default multiplication option is element-by element:\n",
    "\n",
    "$ a * b = \\begin{pmatrix} a_1 * b_1 \\\\ a_2 * b_2 \\\\ a_3 * b_3 \\end{pmatrix}$"
   ]
  },
  {
   "cell_type": "code",
   "execution_count": 33,
   "metadata": {},
   "outputs": [
    {
     "name": "stdout",
     "output_type": "stream",
     "text": [
      "[0 2 0]\n",
      "[1 1 3]\n",
      "[inf  2. inf]\n"
     ]
    },
    {
     "name": "stderr",
     "output_type": "stream",
     "text": [
      "/var/folders/t2/21wy42zs3vqf4r_24_d7j4nc0000gn/T/ipykernel_24756/3839639845.py:6: RuntimeWarning: divide by zero encountered in divide\n",
      "  print(vec_a / vec_b)\n"
     ]
    }
   ],
   "source": [
    "# We can do other similar element-by-element operations\n",
    "# such as multiplication, subtraction, and division.\n",
    "\n",
    "print(vec_a * vec_b)\n",
    "print(vec_a - vec_b)\n",
    "print(vec_a / vec_b)\n"
   ]
  },
  {
   "attachments": {},
   "cell_type": "markdown",
   "metadata": {},
   "source": [
    "<font size = \"5\">\n",
    "Summary statistics of an array"
   ]
  },
  {
   "cell_type": "code",
   "execution_count": 34,
   "metadata": {},
   "outputs": [
    {
     "name": "stdout",
     "output_type": "stream",
     "text": [
      "2.0\n",
      "0.816496580927726\n",
      "1\n",
      "2.0\n",
      "3\n"
     ]
    }
   ],
   "source": [
    "# The function np.mean() computes the mean of an array\n",
    "# We can do similar operations for the standard deviation (std),\n",
    "# the minimum (min), the median (median), and the maximum (max).\n",
    "\n",
    "print(np.mean(vec_a))\n",
    "print(np.std(vec_a))\n",
    "print(np.min(vec_a))\n",
    "print(np.median(vec_a))\n",
    "print(np.max(vec_a))"
   ]
  },
  {
   "attachments": {},
   "cell_type": "markdown",
   "metadata": {},
   "source": [
    "<font size = \"5\">\n",
    "\n",
    "Try it yourself! Compute the mean of\n",
    "\n",
    "\n",
    "$ e = \\begin{pmatrix} 10 \\\\ 8 \\\\ 15 \\\\ 0 \\\\ 24 \\end{pmatrix} $"
   ]
  },
  {
   "cell_type": "code",
   "execution_count": 35,
   "metadata": {},
   "outputs": [
    {
     "name": "stdout",
     "output_type": "stream",
     "text": [
      "11.4\n"
     ]
    }
   ],
   "source": [
    "# Create your own array and compute any of the above summary statistics\n",
    "vec_e= np.array([10,8,15,0,24])\n",
    "\n",
    "print(np.mean(vec_e))\n",
    "\n",
    "\n",
    "\n"
   ]
  },
  {
   "attachments": {},
   "cell_type": "markdown",
   "metadata": {},
   "source": [
    "<font size = \"5\">\n",
    "<span style=\"color:red\"> Common Pitfall </span>: Make sure that the arrays have the same size"
   ]
  },
  {
   "cell_type": "code",
   "execution_count": 36,
   "metadata": {},
   "outputs": [
    {
     "name": "stdout",
     "output_type": "stream",
     "text": [
      "[1 2 3]\n",
      "[  10  100 1000 2000 5000]\n"
     ]
    }
   ],
   "source": [
    "print(vec_a)\n",
    "print(vec_c)"
   ]
  },
  {
   "cell_type": "code",
   "execution_count": 37,
   "metadata": {},
   "outputs": [
    {
     "data": {
      "text/plain": [
       "(3,)"
      ]
     },
     "execution_count": 37,
     "metadata": {},
     "output_type": "execute_result"
    }
   ],
   "source": [
    "vec_a.shape"
   ]
  },
  {
   "cell_type": "code",
   "execution_count": 38,
   "metadata": {},
   "outputs": [
    {
     "ename": "ValueError",
     "evalue": "operands could not be broadcast together with shapes (3,) (5,) ",
     "output_type": "error",
     "traceback": [
      "\u001b[0;31m---------------------------------------------------------------------------\u001b[0m",
      "\u001b[0;31mValueError\u001b[0m                                Traceback (most recent call last)",
      "Cell \u001b[0;32mIn[38], line 3\u001b[0m\n\u001b[1;32m      1\u001b[0m \u001b[38;5;66;03m# Here I try to combine two arrays of different size.\u001b[39;00m\n\u001b[0;32m----> 3\u001b[0m \u001b[43mvec_a\u001b[49m\u001b[43m \u001b[49m\u001b[38;5;241;43m+\u001b[39;49m\u001b[43m \u001b[49m\u001b[43mvec_c\u001b[49m\n",
      "\u001b[0;31mValueError\u001b[0m: operands could not be broadcast together with shapes (3,) (5,) "
     ]
    }
   ],
   "source": [
    "# Here I try to combine two arrays of different size.\n",
    "\n",
    "vec_a + vec_c"
   ]
  },
  {
   "attachments": {},
   "cell_type": "markdown",
   "metadata": {},
   "source": [
    "##  <span style=\"color:darkblue\"> IV. Random Numbers </span>\n",
    "\n",
    "<font size = \"5\">\n",
    "\n",
    "Why randomness?\n",
    "\n",
    "- Simulate different scenarios: high risk or low risk\n",
    "- Study properties of a complex system and/or estimator\n",
    "- In medicine, randomly assign subjects to treatment or control"
   ]
  },
  {
   "attachments": {},
   "cell_type": "markdown",
   "metadata": {},
   "source": [
    "<font size = \"5\">\n",
    "\n",
    "Create a vector of random variables"
   ]
  },
  {
   "cell_type": "code",
   "execution_count": 39,
   "metadata": {},
   "outputs": [
    {
     "name": "stdout",
     "output_type": "stream",
     "text": [
      "[-2.10113451  1.53052212  1.12881821 -1.5956327  -1.2860934   0.01542931\n",
      " -0.45271231 -0.11761409  0.31244321 -0.74575581]\n"
     ]
    }
   ],
   "source": [
    "# This code creates a vector of random variables \n",
    "# generated from a normal distribution with\n",
    "# mean \"loc\" (location) and standard deviation \"scale\"\n",
    "# the number of distinct variabels is \"size\"\n",
    "\n",
    "randomvar_a = np.random.normal(loc=0, scale=1, size=10)\n",
    "print(randomvar_a)"
   ]
  },
  {
   "attachments": {},
   "cell_type": "markdown",
   "metadata": {},
   "source": [
    "<font size = \"5\">\n",
    "\n",
    "Random numbers differ every time!\n",
    "\n",
    "- Avoid this problem by drawing from a \"pregenerated\" set.\n",
    "- This is called a seed"
   ]
  },
  {
   "cell_type": "code",
   "execution_count": 42,
   "metadata": {},
   "outputs": [
    {
     "name": "stdout",
     "output_type": "stream",
     "text": [
      "[ 1.11417929  1.44487377  0.26473752 -0.41701187 -1.71332341 -0.20751871\n",
      " -0.2088598  -1.03876599 -0.15437717 -0.67879554]\n"
     ]
    }
   ],
   "source": [
    "# Your computer will typically generate different numbers every time you run a command\n",
    "# However, sometimes you want to be able to replicate the results\n",
    "# You can choose any other number instead of \"12345\". This will produce another set\n",
    "# of random numbers, but they will give the same answers\n",
    "\n",
    "np.random.seed(10393)\n",
    "\n",
    "random_var_b = np.random.normal(loc=0, scale=1, size=10)\n",
    "print(random_var_b)"
   ]
  },
  {
   "attachments": {},
   "cell_type": "markdown",
   "metadata": {},
   "source": [
    "<font size = \"5\">\n",
    "\n",
    "Compute a histogram with the results"
   ]
  },
  {
   "cell_type": "code",
   "execution_count": 46,
   "metadata": {},
   "outputs": [
    {
     "name": "stdout",
     "output_type": "stream",
     "text": [
      "[ 1.40408497  0.4257398   1.49411031  1.01020106  0.19005899 -0.31940867\n",
      "  1.55457509 -0.17209167  0.49421157  0.11442102]\n"
     ]
    },
    {
     "data": {
      "text/plain": [
       "Text(0, 0.5, 'Frequency')"
      ]
     },
     "execution_count": 46,
     "metadata": {},
     "output_type": "execute_result"
    },
    {
     "data": {
      "image/png": "[encoded data removed]",
      "text/plain": [
       "<Figure size 640x480 with 1 Axes>"
      ]
     },
     "metadata": {},
     "output_type": "display_data"
    }
   ],
   "source": [
    "# Compute a histogram\n",
    "# You can edit the number of bins with plt.hist(x = randomvar_a)\n",
    "\n",
    "randomvar_x = np.random.normal(loc=0, scale=1, size=10)\n",
    "print(randomvar_x)\n",
    "\n",
    "plt.hist(x = randomvar_x)\n",
    "plt.xlabel(\"Variable a\")\n",
    "plt.ylabel(\"Frequency\")"
   ]
  },
  {
   "attachments": {},
   "cell_type": "markdown",
   "metadata": {},
   "source": [
    "<font size = \"5\">\n",
    "\n",
    "Try this again with $size = 100, 1000, 10000$"
   ]
  },
  {
   "cell_type": "code",
   "execution_count": 47,
   "metadata": {},
   "outputs": [
    {
     "name": "stdout",
     "output_type": "stream",
     "text": [
      "[ 0.26499279  0.02548873 -0.58566105 -0.53043509 -0.19907424 -0.80185086\n",
      " -1.06782339 -0.48433488 -0.15511663  0.68588934  0.81611404 -0.53630632\n",
      "  0.61816094 -0.3549443   1.48927188 -0.24358596 -1.0911699   0.90733372\n",
      " -1.29854136 -0.14187723 -2.20133065 -0.10114717  0.62198353  1.29298526\n",
      "  0.37716268 -0.10618611 -0.85395986 -0.44089086 -0.13544922 -0.00500623\n",
      "  0.55293248 -0.91487632  0.11626523  0.37440988  0.87486676  0.94839414\n",
      " -0.02641364 -0.42466056  0.11665891 -0.366021    0.50764047  0.37584554\n",
      "  2.64911972  0.087888   -1.34893152  1.64306614 -0.14546461 -0.49273352\n",
      " -0.61779455 -0.10881801 -0.55833594  1.78959195  1.19941346 -0.25456252\n",
      " -0.07625207  3.0885328   0.08378243  0.31891497  0.20679884 -1.46500003\n",
      " -0.27919871 -0.12703328  0.16331654 -0.65329884  0.3570339   0.88221243\n",
      "  0.8178813   1.26423226 -0.00789523  0.65362532  0.24611026 -0.54117617\n",
      " -0.28374228  0.55231593 -1.15346558  1.02532944 -0.84390094  1.89674397\n",
      " -0.44398089 -1.39569657 -1.15869866  0.74250101  0.94972828 -0.53421476\n",
      " -1.36864577 -1.34826945 -0.02170725  0.9484485  -0.70050061 -1.50727035\n",
      " -1.43508878 -1.22374964 -0.48449317  0.36514521  0.63174801 -1.23731646\n",
      " -0.5079122   0.84642033  0.41971609 -0.84922219]\n"
     ]
    },
    {
     "data": {
      "text/plain": [
       "Text(0, 0.5, 'Frequency')"
      ]
     },
     "execution_count": 47,
     "metadata": {},
     "output_type": "execute_result"
    },
    {
     "data": {
      "image/png": "[encoded data removed]",
      "text/plain": [
       "<Figure size 640x480 with 1 Axes>"
      ]
     },
     "metadata": {},
     "output_type": "display_data"
    }
   ],
   "source": [
    "# Write the code for your histogram (size = 100)\n",
    "\n",
    "randomvar_x = np.random.normal(loc=0, scale=1, size=100)\n",
    "print(randomvar_x)\n",
    "\n",
    "plt.hist(x = randomvar_x)\n",
    "plt.xlabel(\"Variable a\")\n",
    "plt.ylabel(\"Frequency\")\n"
   ]
  },
  {
   "cell_type": "code",
   "execution_count": 48,
   "metadata": {},
   "outputs": [
    {
     "name": "stdout",
     "output_type": "stream",
     "text": [
      "[ 9.38100197e-01  2.61145205e-01  6.48672001e-01 -5.31617226e-01\n",
      " -1.30666835e+00 -1.13913295e-01  1.98717483e+00 -9.63255685e-01\n",
      " -1.71862039e-01  2.52061445e-01 -6.66436760e-02  1.24826299e+00\n",
      " -4.73839698e-01 -5.48655876e-01  8.63949515e-01 -9.59771410e-01\n",
      " -1.28423144e+00 -1.68052464e-01 -1.64457724e+00 -1.50778305e+00\n",
      "  1.44044569e+00 -7.71901294e-01  1.09920492e+00  2.40492932e-01\n",
      "  1.55024513e+00 -6.03964730e-01  6.48380004e-01  6.99921123e-01\n",
      " -1.69206607e+00  2.16057873e-01 -3.08694887e-01 -8.10705869e-01\n",
      " -1.17709875e+00 -3.58963023e-01 -9.04698694e-01 -3.44137306e-01\n",
      "  2.03498919e-02 -9.22835207e-01 -5.78264785e-01 -8.65390401e-01\n",
      " -6.85206781e-01 -1.00430363e+00 -8.11936697e-01 -9.91271907e-02\n",
      "  1.67858586e+00  1.51308079e+00 -8.02111330e-01 -1.38142584e-01\n",
      "  3.28836235e-01  5.12218906e-02  1.65532185e+00 -5.60233399e-01\n",
      " -6.28054783e-01 -2.97203256e-01 -1.08534100e+00 -9.17732004e-01\n",
      " -4.58536408e-01 -2.13862328e-01  1.12705215e-01  1.10818652e+00\n",
      " -2.51508421e+00  1.27308202e+00  3.27151393e-01  6.61417419e-01\n",
      "  1.51976510e-01  1.30946163e+00  2.23356159e-01 -5.72818999e-01\n",
      "  3.09140912e-01 -1.59013135e+00 -2.65152967e-01  3.41846827e-01\n",
      "  3.42732186e-01 -9.77174432e-01 -3.93741947e-01 -2.83631352e-01\n",
      " -7.61793582e-01 -3.27446218e-01 -8.57142778e-01 -5.38328484e-01\n",
      "  4.16466402e-01  2.06135059e+00  7.22935265e-01  8.64395108e-01\n",
      " -6.42787198e-01  3.51938017e+00  8.48942760e-01  5.68563826e-01\n",
      "  9.14573752e-01  1.22281496e+00  5.58819257e-02 -2.19409714e+00\n",
      " -4.63210186e-01 -2.42241881e-01  7.30727939e-01 -1.03716308e+00\n",
      "  5.91062178e-01 -1.02972452e+00  5.11509525e-01 -1.79236083e-01\n",
      "  4.37545091e-02 -1.27702852e+00  2.53623971e+00 -7.90116037e-01\n",
      "  1.56989996e+00 -4.58443557e-01  4.90018699e-02  6.92038224e-01\n",
      "  5.46259776e-01  1.49883415e+00  5.46845689e-02  6.74402983e-01\n",
      " -1.46179551e+00 -4.96935478e-01  3.85110940e-01  1.11054891e+00\n",
      "  2.94728293e-01  4.31934232e-01  1.22402231e+00 -1.12134505e-01\n",
      " -9.07671369e-01 -5.15441171e-01 -1.03956522e+00  1.39640166e+00\n",
      "  6.89328709e-01 -4.91207934e-01 -1.13234612e+00 -2.08568494e+00\n",
      "  2.85079177e+00 -1.40566580e+00  6.99386789e-01 -1.48317356e-01\n",
      " -1.92817217e+00  4.48721023e-01  3.14118529e-01 -3.52814948e-01\n",
      " -6.70677433e-01 -1.15633528e+00 -2.69410171e-01 -2.24646131e-01\n",
      " -8.19859154e-01 -1.15418667e-01 -1.22069666e+00  3.44700838e-01\n",
      "  7.73498866e-01 -3.87828713e-01  8.52864663e-02 -1.20302585e+00\n",
      "  8.07620249e-01  4.17399269e-01 -3.13220309e-01 -1.50834726e+00\n",
      "  1.36862982e+00 -6.57109397e-01  2.27824015e-02 -9.43678247e-01\n",
      " -2.76685965e-01  1.71506138e-01  6.56781948e-01 -5.01508125e-01\n",
      " -2.79138390e-01  2.44913359e-01  2.40956867e-01  8.04050325e-01\n",
      " -1.91901068e+00  2.05007982e-02  3.57921324e-01  1.81747593e+00\n",
      " -6.53658897e-01 -1.71680746e+00  1.80846621e-01  8.55215661e-01\n",
      "  3.88620918e-01 -4.73665790e-01  6.06694073e-01 -1.57812380e-01\n",
      " -1.45439967e+00  8.92243322e-01 -7.50836383e-01  7.53955527e-01\n",
      "  1.00855022e+00 -4.51860345e-01 -9.03395647e-02 -2.47626400e-01\n",
      " -1.08534496e+00  7.94297175e-01  8.28858288e-01 -3.33079893e-01\n",
      " -4.42364100e-01 -6.93122814e-01 -4.26746234e-01 -3.84949690e-01\n",
      " -9.15459569e-01  5.41392673e-01 -3.11598403e-01 -4.36620803e-01\n",
      " -6.32689750e-01  3.23341897e-01  1.59258715e+00 -3.74841642e-01\n",
      " -4.02980058e-01  1.97806178e+00  7.33313801e-01 -7.69241386e-02\n",
      " -2.24874726e+00  2.26475163e+00 -3.19957580e-01 -1.54011323e-01\n",
      "  5.62989016e-01  5.21349602e-02 -2.05708498e-01  1.44950868e+00\n",
      " -9.56795171e-01 -8.25077619e-01  1.78407636e+00  7.56722358e-01\n",
      "  2.31085680e+00  3.25206733e-01 -3.96339984e-01  5.34702934e-02\n",
      "  1.54617543e+00 -3.54589616e-01  4.19829020e-01 -9.09144252e-01\n",
      "  8.31169352e-01 -2.23553161e-01  7.11125600e-01  1.82745982e+00\n",
      " -1.18175633e+00 -1.24133477e+00  7.82355920e-01  1.09112981e+00\n",
      " -1.20271635e+00 -1.24222998e+00  2.48682338e-01  9.44930187e-01\n",
      " -2.25366097e+00  8.28043887e-01 -3.46841508e-01 -1.08231550e+00\n",
      " -1.08540010e-01 -2.24601976e-01  9.19510108e-01  1.06508707e+00\n",
      "  5.15256712e-01 -1.43978234e+00  2.18029652e+00  2.24933855e-01\n",
      "  8.08822992e-01  2.35765825e+00 -8.92653925e-02 -6.45618872e-01\n",
      "  1.46024922e+00 -1.75214090e+00  7.81640799e-01  6.70685704e-02\n",
      "  6.13526321e-01  1.86645809e-01 -1.43485410e+00 -6.89414125e-01\n",
      " -2.06326073e-02 -4.48592298e-03 -1.99140980e-01  1.51751946e+00\n",
      "  6.30396591e-01  2.24603373e-02  4.29603676e-01 -2.25016209e-01\n",
      " -8.30900021e-01  8.10991317e-01  4.26304339e-01  4.81775916e-02\n",
      " -2.21354898e+00  7.77561570e-01 -1.07133618e+00 -3.67169876e-01\n",
      " -2.40424909e+00  2.40800366e+00 -8.85349019e-01 -5.85611824e-01\n",
      "  1.01333642e+00  3.18243789e-03  3.99403899e-01 -6.22674084e-02\n",
      " -2.60545835e-01 -2.98225328e-01  1.09087823e+00  3.94168024e-01\n",
      " -1.36512777e+00 -1.35051495e+00 -1.48830097e-01 -8.10510423e-01\n",
      " -1.40281364e+00  2.31965842e-01 -1.06494238e+00  1.23243934e+00\n",
      "  6.10028048e-01 -1.40292343e-01  7.82000116e-01  1.68117347e-01\n",
      " -1.88455856e+00 -8.09049152e-02 -4.67961214e-02  5.87019636e-01\n",
      " -5.60822942e-01 -4.53697583e-01  1.02569459e-01  5.80353661e-01\n",
      " -4.95492354e-02 -3.57228647e-03 -1.55877794e-01  1.40233961e+00\n",
      "  3.53161850e-01  1.38069107e+00  8.71027532e-01  6.59553692e-01\n",
      " -5.51394470e-01 -2.12740794e+00 -1.33664219e+00  5.92441052e-01\n",
      " -5.56089694e-01 -2.58853599e-01 -7.03808161e-01 -1.03873886e+00\n",
      " -1.26089185e+00 -1.04018744e+00  4.15994309e-01 -7.43420478e-01\n",
      " -1.23500138e+00 -7.10314032e-01  3.04845112e-01  6.54053266e-01\n",
      " -8.25262456e-01 -2.14629041e+00  1.58762939e+00  6.99731705e-03\n",
      "  1.09274592e+00 -7.89115765e-01  5.01455942e-01 -6.65421122e-01\n",
      " -5.38128948e-02  1.00142162e-01 -1.24446896e+00 -5.14616361e-01\n",
      " -1.49872032e+00 -2.16222609e-01  2.05618049e-01 -4.49105322e-01\n",
      "  9.47635412e-01 -1.08748195e+00 -3.52163828e-01 -1.54141705e-01\n",
      " -6.56815995e-02 -2.63651265e+00  1.01760075e+00  4.62867759e-01\n",
      " -4.55098093e-01 -4.17663907e-01 -9.74513975e-01 -5.95155111e-01\n",
      " -7.44486659e-01  3.48756488e-01 -1.10466730e+00  1.51665470e-01\n",
      " -7.84596542e-01  3.19073706e-01 -2.94655666e-01 -1.24727895e+00\n",
      "  1.78515640e-01  1.91973171e-01  1.18721396e+00 -4.13101544e-01\n",
      "  4.35026256e-01 -2.29387504e+00 -7.46323742e-01 -1.20862870e+00\n",
      " -5.03804155e-01  1.02867515e+00  3.63462039e-01  2.70910029e-01\n",
      " -1.01975280e+00  1.03083357e+00 -1.70320467e-01  4.12583852e-01\n",
      " -5.63857029e-01 -1.95155682e-01 -1.22759664e+00  9.92504599e-01\n",
      " -1.78239893e+00  8.79658663e-02 -6.68971355e-01 -2.76405438e-01\n",
      " -2.12726630e+00 -1.31260660e+00  2.80573786e+00  1.31698596e+00\n",
      " -3.87307351e-01 -1.09391934e+00 -1.09579168e+00 -2.35931555e-01\n",
      " -1.09133666e+00  1.55653475e+00  1.86999418e-01 -8.52171741e-01\n",
      "  1.02373605e+00  1.17166841e+00  8.81871043e-02  3.07587162e-01\n",
      "  1.60485673e-01  6.59521942e-01  4.60208987e-01  2.12517201e+00\n",
      "  2.40144241e+00  1.61207309e+00  1.65834846e-02 -9.46512279e-01\n",
      " -1.86881735e+00  4.39529068e-01  7.91273968e-01 -5.74460018e-01\n",
      " -1.22369344e+00 -1.89769933e+00  1.97144945e+00  1.84645218e+00\n",
      "  2.11432389e-02  2.13146041e-01 -3.96225263e-01 -5.34360971e-01\n",
      "  3.71519840e-02 -2.01818498e-01 -3.78658184e-01 -9.72178247e-02\n",
      "  3.16460033e-01  1.31035427e+00  1.06394581e+00 -8.42229794e-01\n",
      "  1.64268292e+00 -5.51899686e-01  4.30293718e-01  7.56939540e-01\n",
      "  7.13781375e-03 -1.84295387e+00  3.79770129e-01 -8.16347729e-01\n",
      " -2.57656457e-01  1.39517894e+00 -2.75171602e-01  1.10019627e+00\n",
      " -8.30277197e-01  1.07225700e+00  7.84001993e-01  8.52044671e-02\n",
      " -8.87005407e-01  2.04750649e+00  6.27893161e-01 -3.90411424e-01\n",
      "  4.31892113e-01 -4.26002871e-01  4.88602691e-01 -4.89891924e-01\n",
      "  5.62202166e-01 -1.43151198e-01  1.94589920e-01 -6.11493233e-01\n",
      " -1.70179266e+00  2.42880747e-01 -2.68668210e+00  4.12463530e-03\n",
      "  1.22905227e+00 -8.45591125e-01 -1.28189637e-01 -8.80137618e-01\n",
      " -9.00619131e-01 -1.04453208e+00 -7.38860700e-01 -3.41164992e-01\n",
      " -1.20894533e+00  2.90296329e-01  1.84296342e+00  1.91708171e-01\n",
      " -1.59780944e-01 -2.39195689e+00  1.83030307e-01 -1.24260273e+00\n",
      " -1.12662844e+00  3.46936441e-01  1.50013413e-01  6.82701924e-01\n",
      "  3.70230709e-01 -2.45041108e+00  9.12297331e-01  1.80306371e-01\n",
      " -5.88420250e-01  2.54308431e-01 -8.90895035e-01  1.38496134e+00\n",
      "  5.13171893e-01 -1.61507717e-01  1.05952037e+00  1.48499119e+00\n",
      " -1.22637152e+00 -2.81335032e-01 -4.46652989e-02 -1.75129113e+00\n",
      "  9.36193676e-01 -1.90958865e+00  1.86072487e+00  9.23714211e-01\n",
      " -1.12553372e+00 -7.73899930e-01 -1.43122191e+00 -1.82939111e-01\n",
      "  1.23936059e+00 -5.20908038e-01  5.08823073e-01  1.65992755e+00\n",
      "  4.53955877e-01 -3.46332077e-01  7.82561607e-01 -1.66998124e+00\n",
      "  4.11009298e-01  1.11982123e+00 -1.88551393e+00  1.01882288e+00\n",
      " -1.93230826e-01 -1.23736502e-01 -1.96977882e+00  6.79588498e-01\n",
      "  4.24139787e-01 -5.26001473e-01  2.54379524e-01  4.59347616e-01\n",
      "  9.60930120e-01  1.99685854e-01  1.69719828e+00 -5.12561812e-01\n",
      " -4.20922589e-01  8.91609468e-01  4.08525421e-01 -8.87134925e-01\n",
      " -2.49695718e-01 -1.48339713e+00  3.98734807e-01 -4.34327391e-01\n",
      "  7.81967416e-01 -1.86749740e-01 -1.68801392e-01  5.99023152e-01\n",
      "  7.79503930e-02  2.13287585e+00  9.98978820e-01  6.69887897e-01\n",
      "  1.54958567e+00  8.40139453e-01 -6.91839762e-01  5.06506279e-01\n",
      " -2.27284312e-01  1.08727074e+00 -7.63819062e-01 -6.86880392e-01\n",
      "  1.03007851e+00  2.66940812e+00 -1.46422283e+00  1.10071626e+00\n",
      " -1.21893140e+00  9.57005896e-02  2.85230402e-01  1.40890707e-01\n",
      " -8.69199952e-01 -2.49284210e-02 -1.13376372e+00 -1.79357487e-01\n",
      "  4.84385970e-01 -3.13468263e-01 -6.87936083e-01 -1.92471751e+00\n",
      "  1.46759356e+00  8.05668647e-01 -9.35514927e-01 -1.69631431e+00\n",
      "  6.60106465e-02  7.24833988e-01  2.47185462e-01 -1.83887547e-01\n",
      " -6.00126959e-01 -4.69110236e-01  1.27367656e+00 -2.34938354e+00\n",
      " -1.03517665e+00  2.93542280e-01  1.20519626e+00 -3.29160855e-01\n",
      " -5.97157202e-01  1.00771823e+00  9.77429872e-02  8.10610052e-01\n",
      "  5.53823021e-01  8.90524154e-01  4.04914523e-01  9.29500724e-01\n",
      " -9.89529023e-02 -6.66556713e-01 -2.44448871e+00  7.75844387e-01\n",
      "  1.76135357e-01  1.53069045e-01  1.44721468e+00 -3.94821011e-01\n",
      " -1.20046610e+00  3.38081720e-01 -4.53565934e-01  2.00918825e+00\n",
      " -3.96968251e-01 -9.65840741e-01 -8.89629995e-02  2.47588165e+00\n",
      " -1.66630291e+00  7.87448278e-01  3.49038845e-01 -8.26022616e-01\n",
      "  1.15478214e+00 -1.25965164e+00  1.10365786e+00  1.43082478e+00\n",
      " -1.55651293e+00 -4.09264812e-01 -7.41156063e-01  1.17420465e+00\n",
      " -8.01814964e-01  8.56711554e-01 -8.29130678e-02 -3.48260768e-02\n",
      "  5.70714281e-01  1.68628561e+00  3.31352900e-01 -4.25234007e-01\n",
      " -2.41069074e-01  1.10093076e+00  4.58377578e-01  6.43642489e-01\n",
      " -1.82253653e+00 -2.14089229e+00  9.55181588e-01 -1.49646423e+00\n",
      " -8.40307356e-01  1.44570504e+00  1.21319848e+00 -1.45025259e+00\n",
      "  8.15554726e-02 -3.64457799e-01 -6.88868031e-01 -1.11721694e+00\n",
      " -2.17974994e+00 -3.53849848e-01  1.09308905e+00  7.55564517e-01\n",
      "  1.67547386e+00 -2.06020097e+00 -4.55421825e-01  4.89275185e-02\n",
      "  1.21747733e+00  2.80934554e-01 -8.52865219e-02 -1.06503251e-02\n",
      "  6.58620682e-01  7.25351721e-01 -4.45856774e-01  1.04692935e+00\n",
      " -3.14904362e-01 -1.02524440e+00  2.27937091e+00 -7.76182482e-01\n",
      "  3.51585262e-01  8.56739120e-01 -8.05297919e-01 -2.19056700e+00\n",
      " -5.70063538e-01  6.59427107e-01  1.46056425e+00  2.18663107e+00\n",
      " -4.98691144e-01  1.53066237e-01 -3.04087797e-02 -1.03884842e+00\n",
      " -1.54306338e+00  1.15702136e-01 -4.55904705e-01  3.56563518e-01\n",
      "  2.15545276e-01 -3.80635378e-01 -1.88725335e+00  5.18575704e-01\n",
      "  3.36189514e-01  1.71195663e-01  1.00482530e+00 -4.18212194e-01\n",
      " -1.74501484e+00  5.27046669e-01 -4.80431246e-02  1.91741500e+00\n",
      " -1.01242257e+00  8.05562491e-01  7.52067273e-01  7.39092187e-01\n",
      " -2.76254003e-01 -1.77828117e-01 -6.09872948e-01 -1.37034572e+00\n",
      "  6.96646232e-01 -9.03054263e-01  2.27947869e-01 -1.77618252e+00\n",
      "  7.94203037e-01 -8.86089034e-01  6.68800089e-02  8.20400581e-01\n",
      "  7.96692765e-01 -1.58962325e-01 -6.59709863e-01  1.84004112e-01\n",
      " -1.01511550e+00  2.85694133e-02 -1.06486637e+00  7.02753230e-01\n",
      " -2.30195680e-01  1.09846337e+00  2.86286976e-01  2.32927683e-01\n",
      "  5.95035366e-02 -9.49220932e-01  1.57771874e+00 -1.15229173e+00\n",
      " -1.21189589e-01 -6.83881191e-01  2.60332908e-01 -6.65843928e-02\n",
      "  1.26246211e+00  1.17866360e+00 -8.77110785e-01 -5.47985034e-01\n",
      " -2.27509573e+00 -1.04512726e-01  8.62788558e-01  1.24965699e+00\n",
      " -5.07333740e-01 -6.19696781e-01 -2.10150799e+00 -4.45759866e-01\n",
      "  4.63615636e-01  9.68958283e-01  6.30441984e-01 -2.62507796e-01\n",
      "  2.86343827e-01  1.62207536e-01  8.25523856e-01  6.79249455e-01\n",
      "  6.28092139e-01 -4.92704690e-01 -8.14517287e-01 -1.17553228e+00\n",
      " -1.87571407e+00  1.49043016e+00  6.59986969e-01  1.45141128e+00\n",
      " -7.43085804e-02  4.12889215e-01 -1.95973973e-01  2.65168012e+00\n",
      "  7.94656412e-01  9.84655377e-01  1.00399101e+00 -1.58538160e+00\n",
      " -2.20092588e+00 -6.13848476e-01  4.40844209e-01 -1.15014621e+00\n",
      "  1.15105596e-01  7.49239133e-01  1.58928334e+00  6.11834640e-01\n",
      " -5.65439688e-01 -6.39761167e-02  1.81115418e-02  1.24995152e+00\n",
      "  1.10353630e+00  3.20183318e-01  2.86015958e-01 -8.31049493e-02\n",
      " -2.00387078e-01 -2.37356476e-02  6.55749469e-01  3.14307238e-01\n",
      "  5.71341693e-01  8.93536242e-02 -5.54422788e-03  6.25937104e-01\n",
      " -1.44267122e+00  3.96231613e-01  1.21221805e+00  2.08238972e-01\n",
      " -2.37198936e-01  2.04992126e+00  3.10066720e-01  1.04596741e-01\n",
      " -5.68754272e-01  1.12715342e+00  6.27983687e-01  1.01587155e+00\n",
      " -4.10282737e-01 -1.90821887e-01 -3.14102223e-01  6.51112098e-01\n",
      " -1.41778214e+00 -3.69397507e-01 -2.37692350e-01 -7.67181520e-01\n",
      " -1.19014645e+00  7.41419756e-01  4.35717029e-02  6.69338194e-01\n",
      " -5.31417897e-01  1.74022940e+00  1.38062899e+00 -7.88326039e-01\n",
      "  5.47534631e-01  1.51968544e-01 -1.05996400e+00  8.91398637e-01\n",
      "  1.30879573e+00  1.33854823e+00  5.01526790e-01 -5.31853820e-01\n",
      " -1.11995094e-01  1.33264909e+00  1.02672895e+00  1.17994730e+00\n",
      " -1.92583439e+00  4.39873999e-01 -1.50738661e+00 -5.65730171e-01\n",
      " -2.66995811e-01  9.51539146e-01  1.25832790e+00 -1.66711716e+00\n",
      " -4.19240831e-01 -3.74674184e-02 -3.16955434e-01  1.37797675e+00\n",
      " -2.44384192e-01 -1.04181171e-01 -1.73248758e+00  2.26742249e-01\n",
      " -4.73647735e-01  9.47123658e-01  3.09645979e-01  4.86021070e-03\n",
      "  8.21138482e-01 -1.29296147e+00  9.64264349e-01 -1.02373165e+00\n",
      " -8.84626293e-01 -1.20565246e-01 -1.52773330e+00  3.40835837e-01\n",
      " -2.88429365e+00  1.93793413e+00 -1.85280343e+00  4.27059886e-01\n",
      " -2.59176171e-01  5.55209664e-01 -4.33267675e-01  1.16491285e-01\n",
      " -1.05590349e-01 -7.74075389e-01  3.80119439e-01 -7.84136731e-02\n",
      " -7.62315933e-01  1.28246254e+00  1.37710111e+00 -1.66968672e+00\n",
      "  1.46758672e+00  2.49765562e+00 -1.63261374e+00 -7.82461588e-02\n",
      "  5.02888777e-01 -1.54550388e+00  1.51327698e+00 -2.04141698e+00\n",
      "  2.16223169e+00 -4.05855882e-01 -1.19832937e+00 -1.07997415e+00\n",
      " -8.77953622e-02 -1.95390848e+00 -8.33568721e-02 -1.38275468e+00\n",
      "  9.57981005e-01 -1.89820576e+00 -9.21607076e-01 -2.55651305e-01\n",
      "  4.58309307e-01  1.93017079e-01  5.27748505e-01  1.65798959e-01\n",
      "  1.14763906e+00  5.77033779e-01  5.57478899e-01  1.17837410e-01\n",
      "  1.14294576e+00 -7.94339241e-01  1.12870344e+00  1.14278937e+00\n",
      " -4.40329596e-01 -9.01840967e-01 -7.79701952e-01 -1.65767365e+00\n",
      " -1.71615207e-01 -8.00424126e-02 -1.43682843e-01  1.24604505e+00\n",
      " -8.12749413e-02 -6.44560545e-02 -4.91618423e-01 -2.46734415e-01\n",
      " -8.44299712e-01 -1.67735550e-01  1.65466081e+00  7.15983077e-01\n",
      "  1.42834497e-01  1.78412053e-02 -1.88547063e+00 -3.70517830e-01\n",
      "  7.87820241e-02  1.47304446e+00 -3.25384051e-01  7.82077431e-02\n",
      " -1.05229474e+00 -5.04374168e-02  1.41318103e+00  1.52926521e-01\n",
      " -5.02922308e-01 -3.43969007e-01 -2.31002287e-01 -2.91259991e-01\n",
      "  5.73005406e-01  1.40416281e+00 -2.16913811e-01 -5.65317093e-01\n",
      "  2.05102855e+00 -8.45345483e-01  8.12539108e-01 -4.38110201e-01\n",
      " -2.40454010e+00  6.25597110e-01 -6.45798446e-01  4.09648687e-01\n",
      " -1.77397757e+00  9.86421129e-01  1.19286260e+00 -6.39170783e-01\n",
      "  2.44521716e-01 -8.36711308e-01 -5.01291232e-01 -6.18503492e-01\n",
      "  3.29814196e-01  3.64311680e-01  8.34304214e-01 -1.02606927e+00\n",
      "  1.06689592e+00 -4.67137847e-01 -3.41571290e-01 -2.14315489e+00\n",
      " -4.61129161e-01  1.29473536e+00  9.84427039e-01  8.15429789e-01\n",
      " -4.25814904e-01 -1.36192422e+00 -2.07921335e-01  5.62056334e-01\n",
      " -1.50031464e+00  3.27207500e-01 -6.17204852e-01 -1.63766999e+00\n",
      "  8.18121451e-01  1.42349217e+00  1.92110556e+00  7.78881462e-01\n",
      "  6.91918601e-01  4.10559803e-01  8.34947940e-01  6.83062920e-01\n",
      " -1.08161407e+00  7.33610488e-01  1.45382370e+00  5.68695562e-01\n",
      "  1.50480187e+00  1.00807817e+00  1.38391206e+00  4.07573715e-01]\n"
     ]
    },
    {
     "data": {
      "text/plain": [
       "Text(0, 0.5, 'Frequency')"
      ]
     },
     "execution_count": 48,
     "metadata": {},
     "output_type": "execute_result"
    },
    {
     "data": {
      "image/png": "[encoded data removed]",
      "text/plain": [
       "<Figure size 640x480 with 1 Axes>"
      ]
     },
     "metadata": {},
     "output_type": "display_data"
    }
   ],
   "source": [
    "# Write the code for your histogram (size = 1000)\n",
    "\n",
    "randomvar_x = np.random.normal(loc=0, scale=1, size=1000)\n",
    "print(randomvar_x)\n",
    "\n",
    "plt.hist(x = randomvar_x)\n",
    "plt.xlabel(\"Variable a\")\n",
    "plt.ylabel(\"Frequency\")"
   ]
  },
  {
   "cell_type": "code",
   "execution_count": 49,
   "metadata": {},
   "outputs": [
    {
     "name": "stdout",
     "output_type": "stream",
     "text": [
      "[ 0.97724216 -1.55922754  0.81930791 ... -0.23954574 -0.54924018\n",
      " -0.54333682]\n"
     ]
    },
    {
     "data": {
      "text/plain": [
       "Text(0, 0.5, 'Frequency')"
      ]
     },
     "execution_count": 49,
     "metadata": {},
     "output_type": "execute_result"
    },
    {
     "data": {
      "image/png": "[encoded data removed]",
      "text/plain": [
       "<Figure size 640x480 with 1 Axes>"
      ]
     },
     "metadata": {},
     "output_type": "display_data"
    }
   ],
   "source": [
    "# Write the code for your histogram (size = 10000)\n",
    "\n",
    "randomvar_x = np.random.normal(loc=0, scale=1, size=10000)\n",
    "print(randomvar_x)\n",
    "\n",
    "plt.hist(x = randomvar_x)\n",
    "plt.xlabel(\"Variable a\")\n",
    "plt.ylabel(\"Frequency\")"
   ]
  },
  {
   "attachments": {},
   "cell_type": "markdown",
   "metadata": {},
   "source": [
    "# <span style=\"color:darkblue\"> Additional Resources </span>\n",
    "\n",
    "<font size=\"5\"> \n",
    "\n",
    "Check out additional examples at:\n",
    "\n",
    "- https://allendowney.github.io/ElementsOfDataScience/03_arrays.html\n",
    "\n",
    "\n"
   ]
  },
  {
   "attachments": {},
   "cell_type": "markdown",
   "metadata": {},
   "source": [
    "# <span style=\"color:darkblue\"> (Optional) Matrix Operations </span>\n",
    "\n",
    "<font size=\"5\"> \n"
   ]
  },
  {
   "attachments": {},
   "cell_type": "markdown",
   "metadata": {},
   "source": [
    "<font size = \"5\">\n",
    "Creating a matrix by stacking different rows\n",
    "\n",
    "$ \\text{ }$\n",
    "\n",
    "$ X = \\begin{pmatrix} 1 & 2 & 3 \\\\ \n",
    "                       0 & 4 & 5 \\\\\n",
    "                       0 & 0 & 6\n",
    "                       \\end{pmatrix} $"
   ]
  },
  {
   "cell_type": "code",
   "execution_count": 50,
   "metadata": {},
   "outputs": [
    {
     "name": "stdout",
     "output_type": "stream",
     "text": [
      "[[1 2 3]\n",
      " [0 4 5]\n",
      " [0 0 6]]\n"
     ]
    }
   ],
   "source": [
    "# Matrices are usually denoted by capital letters\n",
    "# The object [[1,2,3],[4,5,6],[7,8,9]] is a list of lists\n",
    "# It's useful to maintain this notation in the code as well\n",
    "\n",
    "X = np.array([[1,2,3],[0,4,5],[0,0,6]])\n",
    "print(X)"
   ]
  },
  {
   "attachments": {},
   "cell_type": "markdown",
   "metadata": {},
   "source": [
    "<font size = \"5\">\n",
    "Creating a matrix by stacking different columns\n",
    "\n",
    "$ \\text{ } $\n",
    "\n",
    "$ Y = \\begin{pmatrix} 1 & 2 \\\\ 0 & 1 \\\\ 1 & 0 \\end{pmatrix}$"
   ]
  },
  {
   "cell_type": "code",
   "execution_count": 51,
   "metadata": {},
   "outputs": [
    {
     "name": "stdout",
     "output_type": "stream",
     "text": [
      "[[1 2]\n",
      " [0 1]\n",
      " [1 0]]\n"
     ]
    }
   ],
   "source": [
    "# You can also stack columns\n",
    "Y =  np.column_stack([[1,0,1],[2,1,0]])\n",
    "print(Y)"
   ]
  },
  {
   "attachments": {},
   "cell_type": "markdown",
   "metadata": {},
   "source": [
    "<font size = \"5\">\n",
    "Transpose\n",
    "\n",
    "$ \\text{ }$\n",
    "\n",
    "$ Y' = \\begin{pmatrix}  1 & 0 & 1 \\\\ 2 & 1 & 0  \\end{pmatrix} $"
   ]
  },
  {
   "cell_type": "code",
   "execution_count": 52,
   "metadata": {},
   "outputs": [
    {
     "data": {
      "text/plain": [
       "array([[1, 0, 1],\n",
       "       [2, 1, 0]])"
      ]
     },
     "execution_count": 52,
     "metadata": {},
     "output_type": "execute_result"
    }
   ],
   "source": [
    "# Matrix Transpose\n",
    "np.matrix.transpose(Y)"
   ]
  },
  {
   "attachments": {},
   "cell_type": "markdown",
   "metadata": {},
   "source": [
    "<font size = \"5\">\n",
    "\n",
    "Matrix multiplication\n",
    "\n",
    "$ XY = \\begin{pmatrix} 1 & 2 & 3 \\\\ \n",
    "                       0 & 4 & 5 \\\\\n",
    "                       0 & 0 & 6\n",
    "                       \\end{pmatrix}\n",
    "                       \\begin{pmatrix} 1 & 2 \\\\ 0 & 1 \\\\ 1 & 0 \\end{pmatrix} = \n",
    "        \\begin{pmatrix} 4 & 4 \\\\ 5 & 4 \\\\ 6 & 0 \\end{pmatrix} $"
   ]
  },
  {
   "cell_type": "code",
   "execution_count": 53,
   "metadata": {},
   "outputs": [
    {
     "data": {
      "text/plain": [
       "array([[4, 4],\n",
       "       [5, 4],\n",
       "       [6, 0]])"
      ]
     },
     "execution_count": 53,
     "metadata": {},
     "output_type": "execute_result"
    }
   ],
   "source": [
    "# Matrix Multiplication\n",
    "\n",
    "np.dot(X,Y)\n",
    "\n",
    "np.matmul(X,Y)"
   ]
  },
  {
   "attachments": {},
   "cell_type": "markdown",
   "metadata": {},
   "source": [
    "<font size = \"5\">\n",
    "\n",
    "Matrix inverse\n",
    "\n",
    "$ X^{-1} = \\begin{pmatrix} 1 & 2 & 3 \\\\ \n",
    "                       0 & 4 & 5 \\\\\n",
    "                       0 & 0 & 6\n",
    "                       \\end{pmatrix}^{-1} $"
   ]
  },
  {
   "cell_type": "code",
   "execution_count": 54,
   "metadata": {},
   "outputs": [
    {
     "name": "stdout",
     "output_type": "stream",
     "text": [
      "23.999999999999993\n",
      "[[ 1.         -0.5        -0.08333333]\n",
      " [ 0.          0.25       -0.20833333]\n",
      " [ 0.          0.          0.16666667]]\n"
     ]
    }
   ],
   "source": [
    "# Check the determinant of a matrix (a matrix is invertible if the determinant is not zero)\n",
    "print(np.linalg.det(X))\n",
    "\n",
    "# Matrix inverse\n",
    "# The following command stands for linear algebrar inverse.\n",
    "X_inv = np.linalg.inv(X)\n",
    "\n",
    "# Output the result\n",
    "print(X_inv)\n"
   ]
  },
  {
   "attachments": {},
   "cell_type": "markdown",
   "metadata": {},
   "source": [
    "<font size = \"5\">\n",
    "\n",
    "Try it yourself! Check that this is indeed an inverse:\n",
    "\n",
    "$X X_{inv} = \\begin{pmatrix} 1 & 0 & 0 \\\\ 0 & 1 & 0 \\\\ 0 & 0 & 1 \\end{pmatrix}$"
   ]
  },
  {
   "cell_type": "code",
   "execution_count": null,
   "metadata": {},
   "outputs": [
    {
     "name": "stdout",
     "output_type": "stream",
     "text": [
      "[[ 1.00000000e+00  0.00000000e+00 -2.22044605e-16]\n",
      " [ 0.00000000e+00  1.00000000e+00  0.00000000e+00]\n",
      " [ 0.00000000e+00  0.00000000e+00  1.00000000e+00]]\n"
     ]
    }
   ],
   "source": [
    "# Multiply \"X\" times \"X_inv\" using the command shown above\n",
    "# Note: Sometimes the result is shown in scientific notation.\n",
    "\n",
    "\n",
    "\n"
   ]
  }
 ],
 "metadata": {
  "kernelspec": {
   "display_name": "base",
   "language": "python",
   "name": "python3"
  },
  "language_info": {
   "codemirror_mode": {
    "name": "ipython",
    "version": 3
   },
   "file_extension": ".py",
   "mimetype": "text/x-python",
   "name": "python",
   "nbconvert_exporter": "python",
   "pygments_lexer": "ipython3",
   "version": "3.9.15"
  },
  "orig_nbformat": 4,
  "vscode": {
   "interpreter": {
    "hash": "45fc1f684f6f416f40889115beff3ddf69879b64cf4bfee48cb72a61e9d15d1a"
   }
  }
 },
 "nbformat": 4,
 "nbformat_minor": 2
}
