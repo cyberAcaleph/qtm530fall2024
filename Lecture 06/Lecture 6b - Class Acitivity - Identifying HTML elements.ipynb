{
 "cells": [
  {
   "attachments": {},
   "cell_type": "markdown",
   "metadata": {},
   "source": [
    "# <span style=\"color:darkblue\"> Lecture 6b - Identifyng HTML elements </span>"
   ]
  },
  {
   "cell_type": "markdown",
   "metadata": {},
   "source": [
    "<font size = \"5\">\n",
    "\n",
    "We will be working with the Course Atlas\n",
    "\n",
    "<font size = \"3\">\n",
    "\n",
    "- This is where Emory courses are listed\n",
    "- It is an interactive website that displays information <br>\n",
    "as you click through <br>\n",
    "- Our goal is to open this website in developer mode in <br>\n",
    "order to understand its HTML structure. <br>\n",
    "\n",
    "<br>\n",
    "\n",
    "<img src=\"figures/screenshot_homepage.png\" alt=\"drawing\" width=\"400\"/>"
   ]
  },
  {
   "cell_type": "markdown",
   "metadata": {},
   "source": [
    "我们将使用课程地图集\n",
    "\n",
    "\n",
    "\n",
    "-这是埃默里大学的课程列表\n",
    "-这是一个展示信息的交互式网站<br>\n",
    "当你点击<br>\n",
    "-我们的目标是在开发者模式下打开这个网站在<br>\n",
    "以便理解它的HTML结构。< br >\n"
   ]
  },
  {
   "cell_type": "markdown",
   "metadata": {},
   "source": [
    "# <span style=\"color:darkblue\"> I. Getting Started </span>"
   ]
  },
  {
   "cell_type": "markdown",
   "metadata": {},
   "source": [
    "<font size = \"5\">\n",
    "\n",
    "Browse Course Atlas using developer mode\n",
    "\n",
    "<font size = \"3\">\n",
    "\n",
    "- Open Google Chrome\n",
    "- Navigate to http://atlas.emory.edu\n",
    "- Open \"Developer Tools\". The location of this option can vary <br>\n",
    "depending on your version of Chrome, but it is sometimes located in <br>\n",
    "Options > More Tools > Developer Tools.\n",
    "\n"
   ]
  },
  {
   "cell_type": "markdown",
   "metadata": {},
   "source": [
    "使用开发者模式浏览课程图集\n",
    "-打开Google Chrome浏览器\n",
    "-浏览到http://atlas.emory.edu\n",
    "-打开“开发人员工具”。此选项的位置可以变化\n",
    "取决于你的Chrome版本，但它有时位于Options > More Tools > Developer Tools"
   ]
  },
  {
   "cell_type": "markdown",
   "metadata": {},
   "source": [
    "<font size = \"5\">\n",
    "\n",
    "Developer mode should look something like this\n",
    "\n",
    "<img src=\"figures/screenshot_courseatlas_developer.png\" alt=\"drawing\" width=\"500\"/>"
   ]
  },
  {
   "cell_type": "markdown",
   "metadata": {},
   "source": [
    "<font size = \"5\">\n",
    "\n",
    "What should you see?\n",
    "\n",
    "<font size = \"3\">\n",
    "\n",
    "- The raw HTML code for the website to the side\n",
    "- If you hover your mouse over an element in developer mode, <br>\n",
    "it should highlight the corresponding section of the website.\n",
    "- HTML has a nested structure. You can navigate within the nested <br>\n",
    "structure by clicking on the drop-down menus\n"
   ]
  },
  {
   "cell_type": "markdown",
   "metadata": {},
   "source": [
    "你应该看到什么?\n",
    "\n",
    "\n",
    "-网站的原始HTML代码到一边\n",
    "-如果你将鼠标悬停在开发模式下的元素上，<br>\n",
    "它应该突出网站的相应部分。\n",
    "HTML有一个嵌套的结构。您可以在嵌套的<br>中导航\n",
    "结构通过单击下拉菜单"
   ]
  },
  {
   "cell_type": "markdown",
   "metadata": {},
   "source": [
    "<font size = \"5\">\n",
    "\n",
    "Copying HTML code:\n",
    "\n",
    "<font size = \"3\">\n",
    "\n",
    "- If you right-click on a particular element you will get a chance to <br>\n",
    "copy the HTML code <br>\n",
    "- In particular you will see an option called \"xpath\", which is useful for <br>\n",
    "web scraping\n",
    "\n",
    "<br>\n",
    "\n",
    "<img src=\"figures/screenshot_xpath.png\" alt=\"drawing\" width=\"300\"/>"
   ]
  },
  {
   "cell_type": "code",
   "execution_count": null,
   "metadata": {},
   "outputs": [],
   "source": [
    "/html/head\n",
    "/html/head\n",
    "<div id=\"modal__content\" class=\"modal__content\"></div>\n",
    "<div id=\"modal__content\" class=\"modal__content\"></div>\n",
    "#modal\n",
    "document.querySelector(\"#modal\")"
   ]
  },
  {
   "cell_type": "markdown",
   "metadata": {},
   "source": [
    "# <span style=\"color:darkblue\"> II. Activity </span>\n",
    "\n",
    "<font size = \"5\">\n",
    "\n",
    "Web scraping is made much easier by browsing the raw <br>\n",
    "HTML code in developer mode before diving into Python web <br>\n",
    "scraping tools.\n",
    "\n",
    "<font size = \"3\">\n",
    "\n",
    "- Our goal is to familiarize ourselves with the basic elements <br>\n",
    "before proceding with the Python automated implementation."
   ]
  },
  {
   "cell_type": "markdown",
   "metadata": {},
   "source": [
    "# <span>活动< / span >\n",
    "\n",
    "\n",
    "通过浏览原始的<br>，网页抓取变得更加容易。\n",
    "在深入学习Python web之前，先在开发人员模式下编写HTML代码<br>\n",
    "抓取工具。\n",
    "\n",
    "\n",
    "-我们的目标是熟悉基本元素<br>\n",
    "在继续Python自动实现之前。"
   ]
  },
  {
   "cell_type": "markdown",
   "metadata": {},
   "source": [
    "<font size = \"5\">\n",
    "\n",
    "Try it yourself!\n",
    "\n",
    "<font size = \"3\">\n",
    "\n",
    "- In Developer Mode find the HTML element that denotes <br>\n",
    "for the drop-down menu for the semester, e.g. Fall ..., Spring, etc.\n",
    "- Write down the name of the tag that contains this information\n",
    "- Write down the value for the attribute \"class\".\n",
    "- Write down the \"xpath\"."
   ]
  },
  {
   "cell_type": "markdown",
   "metadata": {},
   "source": [
    "<字体大小= \" 5 \" >\n",
    "\n",
    "你自己试试吧!\n",
    "\n",
    "<字体大小= \" 3 \" >\n",
    "\n",
    "在开发模式下找到表示<br>的HTML元素\n",
    "的下拉菜单，例如:Fall…、Spring等。\n",
    "—请写下标签的名称\n",
    "-写下属性class的值。\n",
    "—输入“xpath”。"
   ]
  },
  {
   "cell_type": "code",
   "execution_count": null,
   "metadata": {},
   "outputs": [],
   "source": [
    "# Write down your answers as a comment\n",
    "\n",
    "<select id=\"crit-srcdb\" class=\"form-control\" data-type=\"single-column\">\n",
    "\t<option value=\"5249\">Fall 2024</option>\t<option value=\"5246\">Summer 2024</option>\t<option value=\"5241\">Spring 2024</option>\t<option value=\"5239\">Fall 2023</option>\t<option value=\"5236\">Summer 2023</option>\t<option value=\"5231\">Spring 2023</option>\t<option value=\"5229\">Fall 2022</option>\t<option value=\"5226\">Summer 2022</option>\t<option value=\"5221\">Spring 2022</option>\t<option value=\"5219\">Fall 2021</option>\t<option value=\"5216\">Summer 2021</option>\t<option value=\"5211\">Spring 2021</option>\t<option value=\"5209\">Fall 2020</option>\t<option value=\"5206\">Summer 2020</option>\t<option value=\"5201\">Spring 2020</option>\t<option value=\"5199\">Fall 2019</option>\t<option value=\"5196\">Summer 2019</option>\t<option value=\"5191\">Spring 2019</option></select>\n",
    "\n",
    "<select id=\"crit-srcdb\" class=\"form-control\" data-type=\"single-column\">\n",
    "\t<option value=\"5249\">Fall 2024</option>\t<option value=\"5246\">Summer 2024</option>\t<option value=\"5241\">Spring 2024</option>\t<option value=\"5239\">Fall 2023</option>\t<option value=\"5236\">Summer 2023</option>\t<option value=\"5231\">Spring 2023</option>\t<option value=\"5229\">Fall 2022</option>\t<option value=\"5226\">Summer 2022</option>\t<option value=\"5221\">Spring 2022</option>\t<option value=\"5219\">Fall 2021</option>\t<option value=\"5216\">Summer 2021</option>\t<option value=\"5211\">Spring 2021</option>\t<option value=\"5209\">Fall 2020</option>\t<option value=\"5206\">Summer 2020</option>\t<option value=\"5201\">Spring 2020</option>\t<option value=\"5199\">Fall 2019</option>\t<option value=\"5196\">Summer 2019</option>\t<option value=\"5191\">Spring 2019</option></select>\n",
    "\n",
    "#crit-srcdb\n",
    "\n",
    "document.querySelector(\"#crit-srcdb\")\n",
    "\n",
    "//*[@id=\"crit-srcdb\"]\n",
    "\n",
    "/html/body/main/div[1]/div/div[2]/form/div[2]/div/div[2]/select"
   ]
  },
  {
   "cell_type": "markdown",
   "metadata": {},
   "source": [
    "<font size = \"5\">\n",
    "\n",
    "Try it yourself!\n",
    "\n",
    "<font size = \"3\">\n",
    "\n",
    "- Type something in the search bar, e.g. \"math\".\n",
    "- Locate the tag for the first option that appears in the results page.\n",
    "- Write down the name of the tag that contains this information\n",
    "- Write down the value for the attribute \"class\".\n",
    "- Write down the \"xpath\".\n"
   ]
  },
  {
   "cell_type": "code",
   "execution_count": null,
   "metadata": {},
   "outputs": [],
   "source": [
    "# Write down your answers as a comment\n",
    "\n",
    "\n",
    "/html/body/main/div[2]/div/div[3]/div[1]\n",
    "\n",
    "<div class=\"result result--group-start\">\n",
    "\n",
    "<a href=\"#\" data-group=\"code:MATH 111\" data-key=\"\" data-matched=\"crn:3002,3003,3006,3007,3008,3019,3025,3026,3034,3036,3038,3041,6381\" data-srcdb=\"5249\" class=\"result__link\" data-action=\"result-detail\">\n",
    "<span class=\"result__headline\"><span class=\"result__code\">MATH 111</span>\n",
    "<span class=\"result__title\">Calculus I</span></span><span class=\"result__part\">\n",
    "<span class=\"result__icon\"><i class=\"fa fa-fw\"></i></span><span class=\"flex-grow\">\n",
    "13 lecture\n",
    "</span></span></a>\n",
    "</div>\n",
    "\n",
    "body > main > div.panel.panel--kind-results.panel--visible > div > div.panel__body > div:nth-child(1) > a\n",
    "\n",
    "\n",
    "document.querySelector(\"body > main > div.panel.panel--kind-results.panel--visible > div > div.panel__body > div:nth-child(1) > a\")\n",
    "\n",
    "/html/body/main/div[2]/div/div[3]/div[1]\n",
    "<div class=\"result result--group-start\">\n",
    "<a href=\"#\" data-group=\"code:MATH 111\" data-key=\"\" data-matched=\"crn:3002,3003,3006,3007,3008,3019,3025,3026,3034,3036,3038,3041,6381\" data-srcdb=\"5249\" class=\"result__link\" data-action=\"result-detail\">\n",
    "<span class=\"result__headline\"><span class=\"result__code\">MATH 111</span>\n",
    "<span class=\"result__title\">Calculus I</span></span><span class=\"result__part\">\n",
    "<span class=\"result__icon\"><i class=\"fa fa-fw\"></i></span><span class=\"flex-grow\">\n",
    "13 lecture\n",
    "</span></span></a>\n",
    "</div>\n",
    "\n",
    "\n",
    "body > main > div.panel.panel--kind-results.panel--visible > div > div.panel__body > div:nth-child(1)\n"
   ]
  }
 ],
 "metadata": {
  "kernelspec": {
   "display_name": "base",
   "language": "python",
   "name": "python3"
  },
  "language_info": {
   "codemirror_mode": {
    "name": "ipython",
    "version": 3
   },
   "file_extension": ".py",
   "mimetype": "text/x-python",
   "name": "python",
   "nbconvert_exporter": "python",
   "pygments_lexer": "ipython3",
   "version": "3.9.18"
  },
  "orig_nbformat": 4,
  "vscode": {
   "interpreter": {
    "hash": "45fc1f684f6f416f40889115beff3ddf69879b64cf4bfee48cb72a61e9d15d1a"
   }
  }
 },
 "nbformat": 4,
 "nbformat_minor": 2
}
