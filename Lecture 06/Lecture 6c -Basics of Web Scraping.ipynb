{
 "cells": [
  {
   "attachments": {},
   "cell_type": "markdown",
   "metadata": {},
   "source": [
    "# <span style=\"color:darkblue\"> Lecture 6c - Basics of Web Scraping </span>\n"
   ]
  },
  {
   "cell_type": "markdown",
   "metadata": {},
   "source": [
    "<font size = \"5\">\n",
    "\n",
    "Import packages for data processing + web scraping\n",
    "\n",
    "<font size = \"3\">\n",
    "\n",
    "- You can see the packages that you are importing in the <br>\n",
    "subfolder \"scripts\", in the file \"import_packages.py\"\n",
    "- Writing parts of you code in external Python scripts can help <br>\n",
    "your code be more concise and focused."
   ]
  },
  {
   "cell_type": "markdown",
   "metadata": {},
   "source": [
    "<字体大小= \" 5 \" >\n",
    "\n",
    "导入数据包用于数据处理+网页抓取\n",
    "\n",
    "<字体大小= \" 3 \" >\n",
    "\n",
    "-您可以在<br>中看到正在导入的包\n",
    "子文件夹\"scripts\"，在文件\"import_packages.py\"\n",
    "-在外部Python脚本中编写部分代码会有所帮助<br>\n",
    "您的代码将更加简洁和集中。"
   ]
  },
  {
   "cell_type": "code",
   "execution_count": 1,
   "metadata": {},
   "outputs": [],
   "source": [
    "# This command executes the python scripts\n",
    "exec(open(\"./scripts/import_packages.py\").read())\n"
   ]
  },
  {
   "cell_type": "markdown",
   "metadata": {},
   "source": [
    "# <span style=\"color:darkblue\"> I. Running Chrome from Python </span>"
   ]
  },
  {
   "cell_type": "markdown",
   "metadata": {},
   "source": [
    "<font size = \"5\">\n",
    "\n",
    "Initialize web driver\n",
    "\n",
    "<font size = \"3\">\n",
    "\n",
    "- This will open a Google Chrome window (do not close it)\n",
    "- You may have to grant permission to Python to access the browser <br>\n",
    "via a pop-up window\n",
    "- If you choose ```options.headless = False``` a new window will appear\n",
    "- If you choose ```options.headless = True``` all process will be hidden <br>\n",
    "(you may consider this option after you've got the example automated)\n"
   ]
  },
  {
   "cell_type": "markdown",
   "metadata": {},
   "source": [
    "<字体大小= \" 5 \" >\n",
    "\n",
    "初始化web驱动程序\n",
    "\n",
    "<字体大小= \" 3 \" >\n",
    "\n",
    "这将打开一个Google Chrome窗口(不要关闭它)\n",
    "你可能需要授予Python访问浏览器的权限<br>\n",
    "通过弹出窗口\n",
    "—如果选择“”选项。headless = False ' ' '将出现一个新窗口\n",
    "—如果选择“”选项。headless = True ' ' '所有进程将被隐藏<br>\n",
    "(您可以在示例自动化之后考虑此选项)"
   ]
  },
  {
   "cell_type": "code",
   "execution_count": 2,
   "metadata": {},
   "outputs": [],
   "source": [
    "options = webdriver.ChromeOptions()\n",
    "\n",
    "# True hides the navigating of the browser by the scraper,\n",
    "# False shows you the tab/window opening and stuff getting clicked\n",
    "# For beginners it is recommended to set this to False.\n",
    "options.headless = False \n",
    "\n",
    "driver = webdriver.Chrome(options=options)\n",
    "\n",
    "# For advanced users:\n",
    "# Once you are done you can close the browser automatically by running the \n",
    "# following commands at the end of your code\n",
    "#    driver.close()\n",
    "#    driver.quit()"
   ]
  },
  {
   "cell_type": "markdown",
   "metadata": {},
   "source": [
    "<font size = \"5\">\n",
    "\n",
    "Define URL"
   ]
  },
  {
   "cell_type": "code",
   "execution_count": 3,
   "metadata": {},
   "outputs": [],
   "source": [
    "starting_url = 'https://atlas.emory.edu'"
   ]
  },
  {
   "cell_type": "markdown",
   "metadata": {},
   "source": [
    "<font size = \"5\">\n",
    "\n",
    "Open website\n",
    "\n",
    "<font size = \"3\">\n",
    "\n",
    "- For this to work the browser needs to be open\n",
    "- This should automatically go to the website \"starting_url\""
   ]
  },
  {
   "cell_type": "code",
   "execution_count": 4,
   "metadata": {},
   "outputs": [],
   "source": [
    "driver.get(starting_url)"
   ]
  },
  {
   "cell_type": "markdown",
   "metadata": {},
   "source": [
    "# <span style=\"color:darkblue\"> II. Basic Navigation </span>"
   ]
  },
  {
   "cell_type": "markdown",
   "metadata": {},
   "source": [
    "<font size = \"5\">\n",
    "\n",
    "Search by HTML tag\n",
    "\n",
    "<font size = \"3\">\n",
    "\n",
    "-  ``` driver.find_element(\"xpath\",\"//tag) ```\n",
    "- The \"xpath\" is a command you should always include. This stands <br>\n",
    "for a particular syntax of searching for elements within the HTML code\n",
    "- You can enter any tag, e.g. header, body, div, etc.\n",
    "- If there are multiple occurences, it will extract the first\n",
    "- Ideally use single quotations ``` ' ' ```"
   ]
  },
  {
   "cell_type": "markdown",
   "metadata": {},
   "source": [
    "<字体大小= \" 5 \" >\n",
    "\n",
    "按HTML标签搜索\n",
    "\n",
    "<字体大小= \" 3 \" >\n",
    "\n",
    "- ' ' ' driver.find_element(\"xpath\"，\"//tag \")' ' '\n",
    "-“xpath”是一个必须包含的命令。这是<br>\n",
    "在HTML代码中搜索元素的特定语法\n",
    "-您可以输入任何标签，例如header, body, div等。\n",
    "—如果出现多次，则提取第一次\n",
    "-最好使用单引号' ' ' ' ' ' '"
   ]
  },
  {
   "cell_type": "code",
   "execution_count": 5,
   "metadata": {},
   "outputs": [],
   "source": [
    "search_header = driver.find_element('xpath','//header') "
   ]
  },
  {
   "cell_type": "markdown",
   "metadata": {},
   "source": [
    "<font size = \"5\">\n",
    "\n",
    "Extract specific attributes of the HTML tag\n",
    "\n",
    "<font size = \"3\">\n",
    "\n",
    "- Extract the HTML code using the function ``` .get_attribute() ``` <br>\n",
    "(this is an internal attribute visible only in the code)\n",
    "- Use ```.text``` to extract all text content in a container <br>\n",
    "(this is usually what is displayed to the user)\n",
    "\n",
    "<br>\n",
    "\n",
    "\n",
    "<img src=\"figures/screenshot_header.png\" alt=\"drawing\" width=\"400\"/>"
   ]
  },
  {
   "cell_type": "markdown",
   "metadata": {},
   "source": [
    "<字体大小= \" 5 \" >\n",
    "\n",
    "提取HTML标记的特定属性\n",
    "\n",
    "<字体大小= \" 3 \" >\n",
    "\n",
    "-使用函数' ' ' .get_attribute()提取HTML代码' ' ' < br >\n",
    "(这是一个内部属性，只在代码中可见)\n",
    "-使用' '。Text ' ' '提取容器中的所有文本内容<br>\n",
    "(这通常是显示给用户的内容)\n",
    "\n",
    "< br >"
   ]
  },
  {
   "cell_type": "code",
   "execution_count": 6,
   "metadata": {},
   "outputs": [
    {
     "name": "stdout",
     "output_type": "stream",
     "text": [
      "Header class: banner\n",
      "Header role: banner\n",
      "Header text: COURSE ATLAS\n",
      "Login\n"
     ]
    }
   ],
   "source": [
    "\n",
    "header_class = search_header.get_attribute(\"class\")\n",
    "print(\"Header class: \"  + header_class)\n",
    "\n",
    "header_role  = search_header.get_attribute(\"role\")\n",
    "print(\"Header role: \" + header_role)\n",
    "\n",
    "header_text  = search_header.text\n",
    "print(\"Header text: \" + header_text)"
   ]
  },
  {
   "cell_type": "markdown",
   "metadata": {},
   "source": [
    "<font size = \"5\">\n",
    "\n",
    "Browse extracted element\n",
    "\n",
    "<font size = \"3\">\n",
    "\n",
    "- First we extract all the HTML code in the container using <br>\n",
    "```.get_attribute(\"outerHTML\") ``` <br>\n",
    "- We then use the functon \"BeautfulSoup\" to parse it into a nicer format\n",
    "- You can print it to screen, although you can also print it to a file, <br>\n",
    "in case the output is tool long. Opening from an external file might be easier <br>\n",
    "to read. Open from the file explorer in VS-Code\n"
   ]
  },
  {
   "cell_type": "markdown",
   "metadata": {},
   "source": [
    "<字体大小= \" 5 \" >\n",
    "\n",
    "浏览提取的元素\n",
    "\n",
    "<字体大小= \" 3 \" >\n",
    "\n",
    "-首先，我们使用<br>提取容器中的所有HTML代码\n",
    "' ' ' .get_attribute(“outerHTML”)' ' ' < br >\n",
    "-然后我们使用函数“beautifulsoup”将其解析为更好的格式\n",
    "-你可以打印到屏幕上，虽然你也可以打印到一个文件，<br>\n",
    "如果输出是工具长。从外部文件打开可能更容易一些<br>\n",
    "阅读。在VS-Code中从文件资源管理器打开"
   ]
  },
  {
   "cell_type": "code",
   "execution_count": 7,
   "metadata": {},
   "outputs": [],
   "source": [
    "# Extract HTML code and parse to a nicer format using \"Beautiful Soup\"\n",
    "html_code  = search_header.get_attribute(\"outerHTML\")\n",
    "parse_code = BeautifulSoup(html_code,\"html.parser\").prettify()\n",
    "\n",
    "# Uncomment this line to print on screen\n",
    "# print(parse_code)\n",
    "\n",
    "# You can also save this to a file to make it easier to read without cluttering\n",
    "# the jupyter notebook.\n",
    "# The function open() takes two arguments: \n",
    "# (i) the name of the file\n",
    "# (ii) an option, \"r\" stands for read, \"w\" stands for write\n",
    "# After we've opened the file we can print the output using \".write()\"\n",
    "\n",
    "with open('html_files/diagnose_scraping_outer.html', 'w') as file: \n",
    "    file.write(parse_code)"
   ]
  },
  {
   "cell_type": "code",
   "execution_count": 8,
   "metadata": {},
   "outputs": [],
   "source": [
    "# You can also extract the inside of the container, without the\n",
    "# header tag.\n",
    "inner_html_code  = search_header.get_attribute(\"innerHTML\")\n",
    "parse_inner_code = BeautifulSoup(inner_html_code,\"html.parser\").prettify()\n",
    "\n",
    "with open('html_files/diagnose_scraping_inner.html', 'w') as file: \n",
    "    file.write(parse_code)"
   ]
  },
  {
   "cell_type": "markdown",
   "metadata": {},
   "source": [
    "<font size = \"5\">\n",
    "\n",
    "Extract subelements by path\n",
    "\n",
    "<font size = \"3\">\n",
    "\n",
    "- Use ```.find_elments()``` (with a plural \"s\") to find multiple elements\n",
    "- Browse by path using a slash symbol ```/```\n",
    "- You can search the absolute path from driver, or a relative path <br>\n",
    "given elements that you have already extracted.\n",
    "\n"
   ]
  },
  {
   "cell_type": "markdown",
   "metadata": {},
   "source": [
    "<字体大小= \" 5 \" >\n",
    "\n",
    "按路径提取子元素\n",
    "\n",
    "<字体大小= \" 3 \" >\n",
    "\n",
    "-使用' ' ' . find_elements() ' ' '(带复数\"s\")查找多个元素\n",
    "-使用斜杠符号' ' ' ' / ' ' ' ' '按路径浏览\n",
    "-您可以从驱动程序中搜索绝对路径，或相对路径<br>\n",
    "给定已经提取的元素。"
   ]
  },
  {
   "cell_type": "code",
   "execution_count": 9,
   "metadata": {},
   "outputs": [],
   "source": [
    "# Browse by absolute path\n",
    "search_subdivs_absolute = driver.find_elements('xpath','//header/div') \n",
    "\n",
    "# Explicit address\n",
    "search_subdivs_relative = search_header.find_elements('xpath','div') \n"
   ]
  },
  {
   "cell_type": "markdown",
   "metadata": {},
   "source": [
    "<font size = \"5\">\n",
    "\n",
    "Count how many elemenents are extracted\n",
    "\n",
    "<font size = \"3\">\n",
    "\n",
    "- Often searchers can produce more than one result\n",
    "- This happens when multiple HTML elements share the same tag"
   ]
  },
  {
   "cell_type": "markdown",
   "metadata": {},
   "source": [
    "<字体大小= \" 5 \" >\n",
    "\n",
    "计算提取了多少个元素\n",
    "\n",
    "<字体大小= \" 3 \" >\n",
    "\n",
    "-通常搜索者可以产生多个结果\n",
    "-当多个HTML元素共享相同的标签时，就会发生这种情况"
   ]
  },
  {
   "cell_type": "code",
   "execution_count": 10,
   "metadata": {},
   "outputs": [
    {
     "name": "stdout",
     "output_type": "stream",
     "text": [
      "2\n"
     ]
    }
   ],
   "source": [
    "num_elements = len(search_subdivs_relative)\n",
    "print(num_elements)"
   ]
  },
  {
   "cell_type": "markdown",
   "metadata": {},
   "source": [
    "<font size = \"5\">\n",
    "\n",
    "Browse first lines of extracted elements\n",
    "\n",
    "<font size = \"3\">\n",
    "\n",
    "- Run a \"for-loop\" over all extracted elements\n",
    "- We extract elements using square brackets and the index [i]\n",
    "- We use ```.splitlines()``` to split the HTML code"
   ]
  },
  {
   "cell_type": "code",
   "execution_count": 11,
   "metadata": {},
   "outputs": [
    {
     "name": "stdout",
     "output_type": "stream",
     "text": [
      "<a class=\"header-icon logout-btn\" href=\"#\" onclick=\"return sam.logout(event)\">\n",
      "<a class=\"anon-only\" data-action=\"login\" href=\"#\">\n"
     ]
    }
   ],
   "source": [
    "# The syntax of a loop is\n",
    "# for element in list_elements:\n",
    "#   Body of code\n",
    "# Here range(num_elements) creates an iterable list from 0 to (num_elements - 1).\n",
    "\n",
    "for i in range(num_elements):\n",
    "    \n",
    "    # Extract HTML for element \"i\"\n",
    "    html_code  = search_subdivs_relative[i].get_attribute(\"innerHTML\")\n",
    "    # Parse HTML code    \n",
    "    parse_code = BeautifulSoup(html_code,\"html.parser\").prettify()\n",
    "    # Split HTML into multiple lines and print the first one, in position [0].\n",
    "    print(parse_code.splitlines()[0])\n"
   ]
  },
  {
   "cell_type": "markdown",
   "metadata": {},
   "source": [
    "<font size = \"5\">\n",
    "\n",
    "Try it yourself!\n",
    "\n",
    "<font size = \"3\">\n",
    "\n",
    "- Use ```.findelements``` to find all elements with the tag ```div```\n",
    "- Count how many elements are found.\n",
    "\n",
    "    Note: ```div``` is a very common tag in websites and you will likely <br>\n",
    "    find many elements. This can motivate the targeted options we will see in the <br>\n",
    "    next section\n",
    "\n"
   ]
  },
  {
   "cell_type": "code",
   "execution_count": 12,
   "metadata": {},
   "outputs": [
    {
     "name": "stdout",
     "output_type": "stream",
     "text": [
      "54\n"
     ]
    }
   ],
   "source": [
    "# Write your own code\n",
    "\n",
    "# Explicit address\n",
    "search_subdivs_relative = search_header.find_elements('xpath','//div') \n",
    "num_elements = len(search_subdivs_relative)\n",
    "print(num_elements)"
   ]
  },
  {
   "cell_type": "markdown",
   "metadata": {},
   "source": [
    "<font size = \"5\">\n",
    "\n",
    "<font size = \"5\">\n",
    "\n",
    "Try it yourself!\n",
    "\n",
    "<font size = \"3\">\n",
    "\n",
    "- Store the first HTML line of each element into an external file <br>\n",
    "that you should call ```diagnose_div.html``` \n",
    "- HINT: Embed the code chunk in \"Browse first lines of extracted elements\" <br>\n",
    "into code using the ```with open()``` function. Change print to <b>\n",
    "```file.write()```\n",
    "\n"
   ]
  },
  {
   "cell_type": "markdown",
   "metadata": {},
   "source": [
    "\n",
    "-将每个元素的第一行HTML存储到一个外部文件<br>\n",
    "你应该调用' ' ' ' ' ' ' ' ' ' ' ' ' ' ' '\n",
    "-提示:将代码块嵌入“浏览所提取元素的第一行”<br>\n",
    "使用' ' ' ' with open() ' ' '函数进入代码。将打印更改为<b>\n",
    "' ' ' file.write () ' '"
   ]
  },
  {
   "cell_type": "code",
   "execution_count": 17,
   "metadata": {},
   "outputs": [],
   "source": [
    "# Write your own code\n",
    "\n",
    "with open('html_files/diagnose_div.html', 'w') as file: \n",
    "    file.write(parse_code)\n",
    "\n"
   ]
  },
  {
   "cell_type": "markdown",
   "metadata": {},
   "source": [
    "# <span style=\"color:darkblue\"> III. Targeted Navigation </span>\n",
    "\n",
    "<font size = \"5\">\n",
    "\n",
    "Sometimes searches return too many values\n",
    "\n",
    "<font size = \"3\">\n",
    "\n",
    "- It is useful to do targeted navigation to get exactly what we need\n",
    "- For better results, browse your intended website in Google Chrome <br>\n",
    "using Developer Tools, and find identifiable tag + attrbute combinations"
   ]
  },
  {
   "cell_type": "markdown",
   "metadata": {},
   "source": [
    "# <span>目标导航</span>\n",
    "\n",
    "<字体大小= \" 5 \" >\n",
    "\n",
    "有时搜索返回的值太多\n",
    "\n",
    "<字体大小= \" 3 \" >\n",
    "\n",
    "-这是有用的做有针对性的导航，以得到我们所需要的\n",
    "-为了更好的结果，浏览您的目标网站在谷歌浏览器<br>\n",
    "使用开发人员工具，并找到可识别的标签+属性组合"
   ]
  },
  {
   "cell_type": "markdown",
   "metadata": {},
   "source": [
    "<font size = \"5\">\n",
    "\n",
    "Search by tag + attribute value\n",
    "\n",
    "<font size = \"3\">\n",
    "\n",
    "- Use syntax ``` '//tag[@attribute_name = \"attribute_value]' ```\n"
   ]
  },
  {
   "cell_type": "code",
   "execution_count": 14,
   "metadata": {},
   "outputs": [
    {
     "name": "stdout",
     "output_type": "stream",
     "text": [
      "1\n"
     ]
    }
   ],
   "source": [
    "search_div = driver.find_elements('xpath','//div[@class = \"banner__auth\"]') \n",
    "\n",
    "# Count elements found\n",
    "print(len(search_div))"
   ]
  },
  {
   "cell_type": "markdown",
   "metadata": {},
   "source": [
    "<font size = \"5\">\n",
    "\n",
    "Search by attribute for any tag name\n",
    "\n",
    "<font size = \"3\">\n",
    "\n",
    "- Use syntax ``` '//*[@attribute_name = \"attribute_value]' ```\n",
    "- The star  * indicates that Python should search any tag name.\n"
   ]
  },
  {
   "cell_type": "code",
   "execution_count": 15,
   "metadata": {},
   "outputs": [
    {
     "name": "stdout",
     "output_type": "stream",
     "text": [
      "1\n"
     ]
    }
   ],
   "source": [
    "search_div = driver.find_elements('xpath','//*[@class = \"banner__auth\"]') \n",
    "\n",
    "# Coun elements \n",
    "print(len(search_div))"
   ]
  },
  {
   "cell_type": "markdown",
   "metadata": {},
   "source": [
    "<font size = \"5\">\n",
    "\n",
    "Try it yourself!\n",
    "\n",
    "<font size = \"3\">\n",
    "\n",
    "- Search for all ```div``` with the ```class``` attribute equal to  <br>\n",
    "``` \"form_control\" ```\n",
    "- Store the first line of these elements to a file for diagnostics.\n"
   ]
  },
  {
   "cell_type": "code",
   "execution_count": 18,
   "metadata": {},
   "outputs": [
    {
     "name": "stdout",
     "output_type": "stream",
     "text": [
      "0\n"
     ]
    }
   ],
   "source": [
    "#  Write your own Code\n",
    "\n",
    "search_div = driver.find_elements('xpath','//div[@class = \"form_control\"]') \n",
    "\n",
    "# Coun elements \n",
    "print(len(search_div))\n",
    "\n"
   ]
  }
 ],
 "metadata": {
  "kernelspec": {
   "display_name": "base",
   "language": "python",
   "name": "python3"
  },
  "language_info": {
   "codemirror_mode": {
    "name": "ipython",
    "version": 3
   },
   "file_extension": ".py",
   "mimetype": "text/x-python",
   "name": "python",
   "nbconvert_exporter": "python",
   "pygments_lexer": "ipython3",
   "version": "3.9.15"
  },
  "orig_nbformat": 4,
  "vscode": {
   "interpreter": {
    "hash": "45fc1f684f6f416f40889115beff3ddf69879b64cf4bfee48cb72a61e9d15d1a"
   }
  }
 },
 "nbformat": 4,
 "nbformat_minor": 2
}
